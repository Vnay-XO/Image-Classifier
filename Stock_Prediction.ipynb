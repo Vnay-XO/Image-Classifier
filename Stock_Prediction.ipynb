{
  "nbformat": 4,
  "nbformat_minor": 0,
  "metadata": {
    "colab": {
      "name": "Stock-Prediction.ipynb",
      "version": "0.3.2",
      "provenance": [],
      "include_colab_link": true
    },
    "kernelspec": {
      "name": "python3",
      "display_name": "Python 3"
    }
  },
  "cells": [
    {
      "cell_type": "markdown",
      "metadata": {
        "id": "view-in-github",
        "colab_type": "text"
      },
      "source": [
        "<a href=\"https://colab.research.google.com/github/Vnay-XO/Image-Classifier/blob/master/Stock_Prediction.ipynb\" target=\"_parent\"><img src=\"https://colab.research.google.com/assets/colab-badge.svg\" alt=\"Open In Colab\"/></a>"
      ]
    },
    {
      "cell_type": "markdown",
      "metadata": {
        "id": "28J7CaTtDnpq",
        "colab_type": "text"
      },
      "source": [
        "#FaceBook's 'stock price' prediction\n",
        "In this project, we try to predict FaceBook's stock price using 3 different Regression Modelling Algorithms (Linear, Lasso & Ridge).\n",
        "####Data \n",
        "The data used for the project is the past 5 year data(Aug'2014 - Aug'2019) of the FB stock price - grabbed from 'Yahoo Finance' using 'pandas web data reader’ (an extension of ‘pandas’ library).\n",
        "\n",
        "*Data Link : https://finance.yahoo.com/quote/FB/history?period1=1406745000&period2=1567276200&interval=1d&filter=history&frequency=1d"
      ]
    },
    {
      "cell_type": "markdown",
      "metadata": {
        "id": "C5VIw1rajCBp",
        "colab_type": "text"
      },
      "source": [
        "## Setting up dependencies"
      ]
    },
    {
      "cell_type": "code",
      "metadata": {
        "id": "FpyLq222xjV7",
        "colab_type": "code",
        "colab": {}
      },
      "source": [
        "import numpy as np\n",
        "import pandas as pd\n",
        "import matplotlib.pyplot as plt\n",
        "\n",
        "#Data import\n",
        "from pandas_datareader import data as pdr\n",
        "import fix_yahoo_finance as yf\n",
        "from pandas import Series, DataFrame\n",
        "\n",
        "!pip install yfinance --upgrade --no-cache-dir\n",
        "yf.pdr_override()\n",
        "\n",
        "#For mounting to drive\n",
        "from google.colab import drive\n",
        "\n",
        "\n",
        "#Modeling\n",
        "from sklearn.linear_model import LinearRegression, Ridge, Lasso\n",
        "from sklearn import preprocessing\n",
        "from sklearn.model_selection import train_test_split\n",
        "from sklearn.ensemble import GradientBoostingRegressor\n",
        "\n",
        "#Modeling Metrics\n",
        "from sklearn import metrics"
      ],
      "execution_count": 0,
      "outputs": []
    },
    {
      "cell_type": "markdown",
      "metadata": {
        "id": "lrq6XTURjNCf",
        "colab_type": "text"
      },
      "source": [
        "## Importing Data"
      ]
    },
    {
      "cell_type": "code",
      "metadata": {
        "id": "6hTRMun8gmzP",
        "colab_type": "code",
        "colab": {}
      },
      "source": [
        "yf.pdr_override()\n",
        "df = pdr.get_data_yahoo('FB', start='2014-07-31', end='2019-09-02')\n",
        "df.to_csv('FB.csv')"
      ],
      "execution_count": 0,
      "outputs": []
    },
    {
      "cell_type": "code",
      "metadata": {
        "id": "g5Eg_oLGin71",
        "colab_type": "code",
        "colab": {}
      },
      "source": [
        "df.head()"
      ],
      "execution_count": 0,
      "outputs": []
    },
    {
      "cell_type": "code",
      "metadata": {
        "id": "U6mFyeeOitaL",
        "colab_type": "code",
        "colab": {}
      },
      "source": [
        "df.describe()"
      ],
      "execution_count": 0,
      "outputs": []
    },
    {
      "cell_type": "code",
      "metadata": {
        "id": "kkSDwZ_mi1_Y",
        "colab_type": "code",
        "colab": {}
      },
      "source": [
        "df.shape()"
      ],
      "execution_count": 0,
      "outputs": []
    },
    {
      "cell_type": "code",
      "metadata": {
        "id": "6cP4cPpvi9en",
        "colab_type": "code",
        "colab": {}
      },
      "source": [
        "df[\"Adj Close\"].plot()"
      ],
      "execution_count": 0,
      "outputs": []
    },
    {
      "cell_type": "markdown",
      "metadata": {
        "id": "gNo3utqzknAI",
        "colab_type": "text"
      },
      "source": [
        "##Setting up the data"
      ]
    },
    {
      "cell_type": "code",
      "metadata": {
        "id": "4N7JzIIykpdu",
        "colab_type": "code",
        "colab": {}
      },
      "source": [
        "span=5\n",
        "num_samples=len(df)-span\n",
        "\n",
        "# Get indices of access for the data\n",
        "indices=np.arange(num_samples).astype(np.int)[:,None]+np.arange(span+1).astype(np.int)\n",
        "\n",
        "\n",
        "data = df['Adj Close'].values[indices] # Creating a 2D matrix of training samples\n",
        "x = data[:,:-1] # Each row represents the past 5 days\n",
        "y = data[:,-1] # Each output value represents the 6th day"
      ],
      "execution_count": 0,
      "outputs": []
    },
    {
      "cell_type": "code",
      "metadata": {
        "id": "48kF5jt130A8",
        "colab_type": "code",
        "colab": {}
      },
      "source": [
        "data_split=int(0.8*num_samples)\n",
        "x_train = x[:data_split]\n",
        "y_train = y[:data_split]\n",
        "x_test = x[data_split:]\n",
        "y_test = y[data_split:]"
      ],
      "execution_count": 0,
      "outputs": []
    },
    {
      "cell_type": "markdown",
      "metadata": {
        "id": "LlE9xU-D4wWv",
        "colab_type": "text"
      },
      "source": [
        "##Modelling - Using 3 diff. Regression Models (Linear, Lasso, Ridge)"
      ]
    },
    {
      "cell_type": "code",
      "metadata": {
        "id": "Arc0XdDb4zca",
        "colab_type": "code",
        "colab": {}
      },
      "source": [
        "#Helper fn.s\n",
        "def model_perfromance(model_pred):\n",
        "  #Function returns standard performance metrics\n",
        "  print(\"Absolute 'Mean Error':\", metrics.mean_absolute_error(y_test, model_pred).round(4))  \n",
        "  print(\"Sq'd 'Mean Error':\", metrics.mean_squared_error(y_test, model_pred).round(4))  \n",
        "  print(\"Sq'd 'Root Mean Error':\", np.sqrt(metrics.mean_squared_error(y_test, model_pred)).round(4))\n",
        "   \n",
        "def model_plot (model_pred):\n",
        "  plt.scatter(model_pred, y_test, color=\"gray\")\n",
        "  plt.plot(y_test, y_test, color='red', linewidth=2)"
      ],
      "execution_count": 0,
      "outputs": []
    },
    {
      "cell_type": "markdown",
      "metadata": {
        "id": "0LORhnp36Ubm",
        "colab_type": "text"
      },
      "source": [
        "###Linear Regression"
      ]
    },
    {
      "cell_type": "code",
      "metadata": {
        "id": "GkgawJdV6T7a",
        "colab_type": "code",
        "colab": {
          "base_uri": "https://localhost:8080/",
          "height": 34
        },
        "outputId": "c75f4638-f532-450f-b510-5b95e755b6b3"
      },
      "source": [
        "# Model fitting - using 'Linear Regression'\n",
        "lr_model = LinearRegression()\n",
        "lr_model.fit(x_train, y_train)"
      ],
      "execution_count": 68,
      "outputs": [
        {
          "output_type": "execute_result",
          "data": {
            "text/plain": [
              "LinearRegression(copy_X=True, fit_intercept=True, n_jobs=None, normalize=False)"
            ]
          },
          "metadata": {
            "tags": []
          },
          "execution_count": 68
        }
      ]
    },
    {
      "cell_type": "code",
      "metadata": {
        "id": "ddSCAJZa6TOQ",
        "colab_type": "code",
        "colab": {}
      },
      "source": [
        "# Model Predictions\n",
        "y_pred_lr = lr_model.predict(x_test)"
      ],
      "execution_count": 0,
      "outputs": []
    },
    {
      "cell_type": "code",
      "metadata": {
        "id": "UOeDCQPI7Byf",
        "colab_type": "code",
        "colab": {
          "base_uri": "https://localhost:8080/",
          "height": 67
        },
        "outputId": "4d890cd6-fd08-4fcc-d632-d7f6b70ab9a8"
      },
      "source": [
        "# Model Performance \n",
        "model_perfromance(y_pred_lr)"
      ],
      "execution_count": 70,
      "outputs": [
        {
          "output_type": "stream",
          "text": [
            "Absolute 'Mean Error': 2.4238\n",
            "Sq'd 'Mean Error': 11.0571\n",
            "Sq'd 'Root Mean Error': 3.3252\n"
          ],
          "name": "stdout"
        }
      ]
    },
    {
      "cell_type": "code",
      "metadata": {
        "id": "lsHw04738sZo",
        "colab_type": "code",
        "colab": {}
      },
      "source": [
        "# Model Plot\n",
        "model_plot(y_pred_lr)"
      ],
      "execution_count": 0,
      "outputs": []
    },
    {
      "cell_type": "markdown",
      "metadata": {
        "id": "NivKJCI26Sw_",
        "colab_type": "text"
      },
      "source": [
        "###Lasso Regression"
      ]
    },
    {
      "cell_type": "code",
      "metadata": {
        "id": "KTFFEGOH-ydS",
        "colab_type": "code",
        "colab": {
          "base_uri": "https://localhost:8080/",
          "height": 67
        },
        "outputId": "5873ccfc-818d-45e9-8586-fbe42203146d"
      },
      "source": [
        "# Model fitting - using 'Linear Regression'\n",
        "lso_model = Lasso()\n",
        "lso_model.fit(x_train, y_train)"
      ],
      "execution_count": 72,
      "outputs": [
        {
          "output_type": "execute_result",
          "data": {
            "text/plain": [
              "Lasso(alpha=1.0, copy_X=True, fit_intercept=True, max_iter=1000,\n",
              "      normalize=False, positive=False, precompute=False, random_state=None,\n",
              "      selection='cyclic', tol=0.0001, warm_start=False)"
            ]
          },
          "metadata": {
            "tags": []
          },
          "execution_count": 72
        }
      ]
    },
    {
      "cell_type": "code",
      "metadata": {
        "id": "22WoAhhF_Cmw",
        "colab_type": "code",
        "colab": {}
      },
      "source": [
        "# Model Predictions\n",
        "y_pred_lso = lso_model.predict(x_test)"
      ],
      "execution_count": 0,
      "outputs": []
    },
    {
      "cell_type": "code",
      "metadata": {
        "id": "B6J2ixrX_U2k",
        "colab_type": "code",
        "colab": {
          "base_uri": "https://localhost:8080/",
          "height": 67
        },
        "outputId": "898f3efd-b606-408f-e247-f8c9047c82fb"
      },
      "source": [
        "# Model Performance \n",
        "model_perfromance(y_pred_lso)"
      ],
      "execution_count": 74,
      "outputs": [
        {
          "output_type": "stream",
          "text": [
            "Absolute 'Mean Error': 2.4242\n",
            "Sq'd 'Mean Error': 11.0475\n",
            "Sq'd 'Root Mean Error': 3.3238\n"
          ],
          "name": "stdout"
        }
      ]
    },
    {
      "cell_type": "code",
      "metadata": {
        "id": "F9drXIE4_b1k",
        "colab_type": "code",
        "colab": {
          "base_uri": "https://localhost:8080/",
          "height": 269
        },
        "outputId": "cf09ca09-f0e2-4ade-8c4c-3f48aba38e24"
      },
      "source": [
        "# Model Plot\n",
        "model_plot(y_pred_lso)"
      ],
      "execution_count": 75,
      "outputs": [
        {
          "output_type": "display_data",
          "data": {
            "image/png": "[encoded data removed]",
            "text/plain": [
              "<Figure size 432x288 with 1 Axes>"
            ]
          },
          "metadata": {
            "tags": []
          }
        }
      ]
    },
    {
      "cell_type": "markdown",
      "metadata": {
        "id": "J3Ubt8Xt_hip",
        "colab_type": "text"
      },
      "source": [
        "###Ridge Regression"
      ]
    },
    {
      "cell_type": "code",
      "metadata": {
        "id": "aowM5g29_m6l",
        "colab_type": "code",
        "colab": {
          "base_uri": "https://localhost:8080/",
          "height": 50
        },
        "outputId": "7395e6a2-4980-4968-c07a-7777aaf75cdc"
      },
      "source": [
        "# Model fitting - using 'Linear Regression'\n",
        "rdg_model = Ridge()\n",
        "rdg_model.fit(x_train, y_train)"
      ],
      "execution_count": 76,
      "outputs": [
        {
          "output_type": "execute_result",
          "data": {
            "text/plain": [
              "Ridge(alpha=1.0, copy_X=True, fit_intercept=True, max_iter=None,\n",
              "      normalize=False, random_state=None, solver='auto', tol=0.001)"
            ]
          },
          "metadata": {
            "tags": []
          },
          "execution_count": 76
        }
      ]
    },
    {
      "cell_type": "code",
      "metadata": {
        "id": "hVAfKIao_3g7",
        "colab_type": "code",
        "colab": {}
      },
      "source": [
        "# Model Predictions\n",
        "y_pred_rdg = rdg_model.predict(x_test)"
      ],
      "execution_count": 0,
      "outputs": []
    },
    {
      "cell_type": "code",
      "metadata": {
        "id": "LmZ_lFfLAC5V",
        "colab_type": "code",
        "colab": {
          "base_uri": "https://localhost:8080/",
          "height": 67
        },
        "outputId": "48a625d3-6b5e-402d-bae6-32c36483df18"
      },
      "source": [
        "# Model Performance \n",
        "model_perfromance(y_pred_rdg)"
      ],
      "execution_count": 78,
      "outputs": [
        {
          "output_type": "stream",
          "text": [
            "Absolute 'Mean Error': 2.4238\n",
            "Sq'd 'Mean Error': 11.0571\n",
            "Sq'd 'Root Mean Error': 3.3252\n"
          ],
          "name": "stdout"
        }
      ]
    },
    {
      "cell_type": "code",
      "metadata": {
        "id": "sNb8f5wRAMv8",
        "colab_type": "code",
        "colab": {
          "base_uri": "https://localhost:8080/",
          "height": 269
        },
        "outputId": "eb1a7755-f94e-4415-fe6c-2b678fc785e8"
      },
      "source": [
        "# Model Plot\n",
        "model_plot(y_pred_rdg)"
      ],
      "execution_count": 79,
      "outputs": [
        {
          "output_type": "display_data",
          "data": {
            "image/png": "[encoded data removed]",
            "text/plain": [
              "<Figure size 432x288 with 1 Axes>"
            ]
          },
          "metadata": {
            "tags": []
          }
        }
      ]
    },
    {
      "cell_type": "markdown",
      "metadata": {
        "id": "VhT5EHfhAdj3",
        "colab_type": "text"
      },
      "source": [
        "##Model Comparison"
      ]
    },
    {
      "cell_type": "code",
      "metadata": {
        "id": "2Zq1-AbeAfgC",
        "colab_type": "code",
        "colab": {}
      },
      "source": [
        "df_comp=pd.DataFrame({\"lr\":np.absolute(y_test-y_pred_lr), \n",
        "              \"lso\":np.absolute(y_test-y_pred_lso),\n",
        "              \"rdg\":np.absolute(y_test-y_pred_rdg)})"
      ],
      "execution_count": 0,
      "outputs": []
    },
    {
      "cell_type": "code",
      "metadata": {
        "id": "74dAYXGAB7wo",
        "colab_type": "code",
        "colab": {}
      },
      "source": [
        "df_comp.plot.bar(figsize=(16, 6))\n",
        "plt.ylim(0,10)\n",
        "plt.xlim(9,20)"
      ],
      "execution_count": 0,
      "outputs": []
    },
    {
      "cell_type": "markdown",
      "metadata": {
        "id": "cbtYmYNMCMi5",
        "colab_type": "text"
      },
      "source": [
        "##Inference"
      ]
    },
    {
      "cell_type": "markdown",
      "metadata": {
        "id": "PmWyxf9CCRzf",
        "colab_type": "text"
      },
      "source": [
        "We made the Stock Prediction of FaceBook using 3 different Regression Algorithms & concluded that 'Lasso' Regression give us the best performance with the least complexity."
      ]
    }
  ]
}